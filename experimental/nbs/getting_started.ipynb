{
 "cells": [
  {
   "cell_type": "markdown",
   "id": "59afff51",
   "metadata": {},
   "source": [
    "# Getting Started\n",
    "\n",
    "> An introduction to using the experimental features of Ragas"
   ]
  },
  {
   "cell_type": "code",
   "execution_count": 1,
   "id": "2f61bb1c",
   "metadata": {},
   "outputs": [
    {
     "name": "stderr",
     "output_type": "stream",
     "text": [
      "/Users/jjmachan/workspace/eglabs/ragas/.venv/lib/python3.12/site-packages/tqdm/auto.py:21: TqdmWarning: IProgress not found. Please update jupyter and ipywidgets. See https://ipywidgets.readthedocs.io/en/stable/user_install.html\n",
      "  from .autonotebook import tqdm as notebook_tqdm\n"
     ]
    }
   ],
   "source": [
    "from ragas_experimental.utils import get_test_directory"
   ]
  },
  {
   "cell_type": "code",
   "execution_count": 2,
   "id": "7f07237a",
   "metadata": {},
   "outputs": [],
   "source": [
    "from ragas_experimental import Project"
   ]
  },
  {
   "cell_type": "code",
   "execution_count": 3,
   "id": "8ed0453c",
   "metadata": {},
   "outputs": [
    {
     "data": {
      "text/plain": [
       "'/var/folders/2y/02fp70k56p75ldrkgtx7z10r0000gn/T/ragas_test_foqCNH4eTMFE'"
      ]
     },
     "execution_count": 3,
     "metadata": {},
     "output_type": "execute_result"
    }
   ],
   "source": [
    "root_dir = get_test_directory()\n",
    "root_dir"
   ]
  },
  {
   "cell_type": "code",
   "execution_count": 4,
   "id": "90ef5613",
   "metadata": {},
   "outputs": [
    {
     "data": {
      "text/plain": [
       "<ragas_experimental.project.core.Project at 0x1312d5640>"
      ]
     },
     "execution_count": 4,
     "metadata": {},
     "output_type": "execute_result"
    }
   ],
   "source": [
    "p = Project(\n",
    "    project_id=\"test\",\n",
    "    backend=\"local\",\n",
    "    root_dir=root_dir,\n",
    ")\n",
    "\n",
    "p"
   ]
  },
  {
   "cell_type": "code",
   "execution_count": 5,
   "id": "12eeeebb",
   "metadata": {},
   "outputs": [],
   "source": [
    "from ragas_experimental import BaseModel\n",
    "import typing as t\n",
    "\n",
    "class TestDataRow(BaseModel):\n",
    "    id: t.Optional[int]\n",
    "    query: str\n",
    "    persona: t.List[t.Literal[\"opt1\", \"opt2\", \"opt3\"]]"
   ]
  },
  {
   "cell_type": "code",
   "execution_count": 6,
   "id": "94c7339d",
   "metadata": {},
   "outputs": [
    {
     "data": {
      "text/plain": [
       "Dataset(name='test_dataset', model=TestDataRow, len=0)"
      ]
     },
     "execution_count": 6,
     "metadata": {},
     "output_type": "execute_result"
    }
   ],
   "source": [
    "dataset = p.create_dataset(\n",
    "    name=\"test_dataset\",\n",
    "    model=TestDataRow,\n",
    ")\n",
    "\n",
    "dataset"
   ]
  },
  {
   "cell_type": "code",
   "execution_count": 7,
   "id": "7b039a42",
   "metadata": {},
   "outputs": [
    {
     "data": {
      "text/plain": [
       "Dataset(name='test_dataset', model=TestDataRow, len=3)"
      ]
     },
     "execution_count": 7,
     "metadata": {},
     "output_type": "execute_result"
    }
   ],
   "source": [
    "for i in range(3):\n",
    "    row = TestDataRow(id=i, query=f\"query_{i}\", persona=[\"opt1\"])\n",
    "    dataset.append(row)\n",
    "\n",
    "dataset"
   ]
  },
  {
   "cell_type": "code",
   "execution_count": 8,
   "id": "9261ba72",
   "metadata": {},
   "outputs": [],
   "source": [
    "from ragas_experimental.metric import MetricResult\n",
    "\n",
    "class ExperimentDataRow(TestDataRow):\n",
    "    response: str \n",
    "    metrics: t.List[MetricResult]\n",
    "\n",
    "\n",
    "@p.experiment(ExperimentDataRow, name_prefix=\"Workshop\")\n",
    "async def run_experiment(row: TestDataRow):\n",
    "    response = \"test\"\n",
    "    score1 = MetricResult(result=1, reason=\"score 1\")\n",
    "    score2 = MetricResult(result=0, reason=\"score 2\")\n",
    "\n",
    "    experiment_view = ExperimentDataRow(\n",
    "        id=row.id,\n",
    "        query=row.query,\n",
    "        persona=[\"opt1\"],\n",
    "        response=response,\n",
    "        metrics=[score1, score2],\n",
    "    )\n",
    "    print(experiment_view.model_dump())\n",
    "    return experiment_view"
   ]
  },
  {
   "cell_type": "code",
   "execution_count": 9,
   "id": "5baf8011",
   "metadata": {},
   "outputs": [
    {
     "name": "stderr",
     "output_type": "stream",
     "text": [
      "Running experiment:   0%|          | 0/6 [00:00<?, ?it/s]"
     ]
    },
    {
     "name": "stdout",
     "output_type": "stream",
     "text": [
      "{'id': 1, 'query': 'query_1', 'persona': ['opt1'], 'response': 'test', 'metrics': [1, 0]}\n",
      "{'id': 2, 'query': 'query_2', 'persona': ['opt1'], 'response': 'test', 'metrics': [1, 0]}\n",
      "{'id': 0, 'query': 'query_0', 'persona': ['opt1'], 'response': 'test', 'metrics': [1, 0]}\n"
     ]
    },
    {
     "ename": "ValueError",
     "evalue": "dict contains fields not in fieldnames: 'query', 'persona', 'id'",
     "output_type": "error",
     "traceback": [
      "\u001b[31m---------------------------------------------------------------------------\u001b[39m",
      "\u001b[31mValueError\u001b[39m                                Traceback (most recent call last)",
      "\u001b[36mCell\u001b[39m\u001b[36m \u001b[39m\u001b[32mIn[9]\u001b[39m\u001b[32m, line 1\u001b[39m\n\u001b[32m----> \u001b[39m\u001b[32m1\u001b[39m \u001b[38;5;28;01mawait\u001b[39;00m run_experiment.run_async(dataset)\n",
      "\u001b[36mFile \u001b[39m\u001b[32m~/workspace/eglabs/ragas/experimental/ragas_experimental/project/experiments.py:597\u001b[39m, in \u001b[36mexperiment.<locals>.decorator.<locals>.run_async\u001b[39m\u001b[34m(dataset, name, save_to_git, stage_all, backend)\u001b[39m\n\u001b[32m    592\u001b[39m             \u001b[38;5;28mprint\u001b[39m(\n\u001b[32m    593\u001b[39m                 \u001b[33mf\u001b[39m\u001b[33m\"\u001b[39m\u001b[33mFailed to clean up experiment after error: \u001b[39m\u001b[38;5;132;01m{\u001b[39;00mcleanup_error\u001b[38;5;132;01m}\u001b[39;00m\u001b[33m\"\u001b[39m\n\u001b[32m    594\u001b[39m             )\n\u001b[32m    596\u001b[39m     \u001b[38;5;66;03m# Re-raise the original exception\u001b[39;00m\n\u001b[32m--> \u001b[39m\u001b[32m597\u001b[39m     \u001b[38;5;28;01mraise\u001b[39;00m e\n\u001b[32m    599\u001b[39m \u001b[38;5;66;03m# save to git if requested\u001b[39;00m\n\u001b[32m    600\u001b[39m \u001b[38;5;28;01mif\u001b[39;00m save_to_git:\n",
      "\u001b[36mFile \u001b[39m\u001b[32m~/workspace/eglabs/ragas/experimental/ragas_experimental/project/experiments.py:563\u001b[39m, in \u001b[36mexperiment.<locals>.decorator.<locals>.run_async\u001b[39m\u001b[34m(dataset, name, save_to_git, stage_all, backend)\u001b[39m\n\u001b[32m    561\u001b[39m \u001b[38;5;66;03m# Append results to experiment view\u001b[39;00m\n\u001b[32m    562\u001b[39m \u001b[38;5;28;01mfor\u001b[39;00m result \u001b[38;5;129;01min\u001b[39;00m results:\n\u001b[32m--> \u001b[39m\u001b[32m563\u001b[39m     \u001b[43mexperiment_view\u001b[49m\u001b[43m.\u001b[49m\u001b[43mappend\u001b[49m\u001b[43m(\u001b[49m\u001b[43mresult\u001b[49m\u001b[43m)\u001b[49m\n\u001b[32m    564\u001b[39m     progress_bar.update(\u001b[32m1\u001b[39m)  \u001b[38;5;66;03m# Update for append operation\u001b[39;00m\n\u001b[32m    566\u001b[39m progress_bar.close()\n",
      "\u001b[36mFile \u001b[39m\u001b[32m~/workspace/eglabs/ragas/experimental/ragas_experimental/dataset.py:630\u001b[39m, in \u001b[36mappend\u001b[39m\u001b[34m(self, entry)\u001b[39m\n\u001b[32m    627\u001b[39m     \u001b[38;5;28;01mraise\u001b[39;00m \u001b[38;5;167;01mTypeError\u001b[39;00m(\u001b[33mf\u001b[39m\u001b[33m\"\u001b[39m\u001b[33mEntry must be an instance of \u001b[39m\u001b[38;5;132;01m{\u001b[39;00m\u001b[38;5;28mself\u001b[39m.model.\u001b[34m__name__\u001b[39m\u001b[38;5;132;01m}\u001b[39;00m\u001b[33m\"\u001b[39m)\n\u001b[32m    629\u001b[39m \u001b[38;5;66;03m# Add to backend and get ID\u001b[39;00m\n\u001b[32m--> \u001b[39m\u001b[32m630\u001b[39m row_id = \u001b[38;5;28;43mself\u001b[39;49m\u001b[43m.\u001b[49m\u001b[43m_backend\u001b[49m\u001b[43m.\u001b[49m\u001b[43mappend_entry\u001b[49m\u001b[43m(\u001b[49m\u001b[43mentry\u001b[49m\u001b[43m)\u001b[49m\n\u001b[32m    632\u001b[39m \u001b[38;5;66;03m# Store the ID\u001b[39;00m\n\u001b[32m    633\u001b[39m entry._row_id = row_id\n",
      "\u001b[36mFile \u001b[39m\u001b[32m~/workspace/eglabs/ragas/experimental/ragas_experimental/dataset.py:380\u001b[39m, in \u001b[36mLocalBackend.append_entry\u001b[39m\u001b[34m(self, entry)\u001b[39m\n\u001b[32m    377\u001b[39m         writer.writerow(row)\n\u001b[32m    379\u001b[39m     \u001b[38;5;66;03m# Write new row\u001b[39;00m\n\u001b[32m--> \u001b[39m\u001b[32m380\u001b[39m     \u001b[43mwriter\u001b[49m\u001b[43m.\u001b[49m\u001b[43mwriterow\u001b[49m\u001b[43m(\u001b[49m\u001b[43mentry_dict\u001b[49m\u001b[43m)\u001b[49m\n\u001b[32m    382\u001b[39m \u001b[38;5;66;03m# Return the row ID\u001b[39;00m\n\u001b[32m    383\u001b[39m \u001b[38;5;28;01mreturn\u001b[39;00m row_id\n",
      "\u001b[36mFile \u001b[39m\u001b[32m~/.local/share/uv/python/cpython-3.12.8-macos-aarch64-none/lib/python3.12/csv.py:164\u001b[39m, in \u001b[36mDictWriter.writerow\u001b[39m\u001b[34m(self, rowdict)\u001b[39m\n\u001b[32m    163\u001b[39m \u001b[38;5;28;01mdef\u001b[39;00m\u001b[38;5;250m \u001b[39m\u001b[34mwriterow\u001b[39m(\u001b[38;5;28mself\u001b[39m, rowdict):\n\u001b[32m--> \u001b[39m\u001b[32m164\u001b[39m     \u001b[38;5;28;01mreturn\u001b[39;00m \u001b[38;5;28mself\u001b[39m.writer.writerow(\u001b[38;5;28;43mself\u001b[39;49m\u001b[43m.\u001b[49m\u001b[43m_dict_to_list\u001b[49m\u001b[43m(\u001b[49m\u001b[43mrowdict\u001b[49m\u001b[43m)\u001b[49m)\n",
      "\u001b[36mFile \u001b[39m\u001b[32m~/.local/share/uv/python/cpython-3.12.8-macos-aarch64-none/lib/python3.12/csv.py:159\u001b[39m, in \u001b[36mDictWriter._dict_to_list\u001b[39m\u001b[34m(self, rowdict)\u001b[39m\n\u001b[32m    157\u001b[39m     wrong_fields = rowdict.keys() - \u001b[38;5;28mself\u001b[39m.fieldnames\n\u001b[32m    158\u001b[39m     \u001b[38;5;28;01mif\u001b[39;00m wrong_fields:\n\u001b[32m--> \u001b[39m\u001b[32m159\u001b[39m         \u001b[38;5;28;01mraise\u001b[39;00m \u001b[38;5;167;01mValueError\u001b[39;00m(\u001b[33m\"\u001b[39m\u001b[33mdict contains fields not in fieldnames: \u001b[39m\u001b[33m\"\u001b[39m\n\u001b[32m    160\u001b[39m                          + \u001b[33m\"\u001b[39m\u001b[33m, \u001b[39m\u001b[33m\"\u001b[39m.join([\u001b[38;5;28mrepr\u001b[39m(x) \u001b[38;5;28;01mfor\u001b[39;00m x \u001b[38;5;129;01min\u001b[39;00m wrong_fields]))\n\u001b[32m    161\u001b[39m \u001b[38;5;28;01mreturn\u001b[39;00m (rowdict.get(key, \u001b[38;5;28mself\u001b[39m.restval) \u001b[38;5;28;01mfor\u001b[39;00m key \u001b[38;5;129;01min\u001b[39;00m \u001b[38;5;28mself\u001b[39m.fieldnames)\n",
      "\u001b[31mValueError\u001b[39m: dict contains fields not in fieldnames: 'query', 'persona', 'id'"
     ]
    }
   ],
   "source": [
    "await run_experiment.run_async(dataset)"
   ]
  },
  {
   "cell_type": "code",
   "execution_count": 13,
   "id": "1e171f7a",
   "metadata": {},
   "outputs": [
    {
     "name": "stdout",
     "output_type": "stream",
     "text": [
      "> \u001b[32m/Users/jjmachan/.local/share/uv/python/cpython-3.12.8-macos-aarch64-none/lib/python3.12/csv.py\u001b[39m(\u001b[92m159\u001b[39m)\u001b[36m_dict_to_list\u001b[39m\u001b[34m()\u001b[39m\n",
      "\u001b[32m    157\u001b[39m             wrong_fields = rowdict.keys() - self.fieldnames\n",
      "\u001b[32m    158\u001b[39m             \u001b[38;5;28;01mif\u001b[39;00m wrong_fields:\n",
      "\u001b[32m--> 159\u001b[39m                 raise ValueError(\"dict contains fields not in fieldnames: \"\n",
      "\u001b[32m    160\u001b[39m                                  + \u001b[33m\", \"\u001b[39m.join([repr(x) \u001b[38;5;28;01mfor\u001b[39;00m x \u001b[38;5;28;01min\u001b[39;00m wrong_fields]))\n",
      "\u001b[32m    161\u001b[39m         \u001b[38;5;28;01mreturn\u001b[39;00m (rowdict.get(key, self.restval) \u001b[38;5;28;01mfor\u001b[39;00m key \u001b[38;5;28;01min\u001b[39;00m self.fieldnames)\n",
      "\n",
      "*** NameError: name 'wrong_fieldnames' is not defined\n",
      "['response', 'metrics']\n",
      "['response', 'metrics']\n",
      "<built-in method keys of dict object at 0x13006a540>\n",
      "dict_keys(['id', 'query', 'persona', 'response', 'metrics'])\n",
      "['response', 'metrics']\n",
      "*** NameError: name 'quite' is not defined\n"
     ]
    }
   ],
   "source": [
    "%debug"
   ]
  },
  {
   "cell_type": "code",
   "execution_count": null,
   "id": "5068488f",
   "metadata": {},
   "outputs": [],
   "source": []
  }
 ],
 "metadata": {
  "kernelspec": {
   "display_name": ".venv",
   "language": "python",
   "name": "python3"
  },
  "language_info": {
   "codemirror_mode": {
    "name": "ipython",
    "version": 3
   },
   "file_extension": ".py",
   "mimetype": "text/x-python",
   "name": "python",
   "nbconvert_exporter": "python",
   "pygments_lexer": "ipython3",
   "version": "3.12.8"
  }
 },
 "nbformat": 4,
 "nbformat_minor": 5
}
