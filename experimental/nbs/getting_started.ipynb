{
 "cells": [
  {
   "cell_type": "markdown",
   "id": "59afff51",
   "metadata": {},
   "source": [
    "# Getting Started\n",
    "\n",
    "> An introduction to using the experimental features of Ragas"
   ]
  },
  {
   "cell_type": "markdown",
   "id": "b27ae90a",
   "metadata": {},
   "source": []
  },
  {
   "cell_type": "code",
   "execution_count": null,
   "id": "7f07237a",
   "metadata": {},
   "outputs": [],
   "source": [
    "#| hide\n",
    "from ragas_experimental import *"
   ]
  }
 ],
 "metadata": {
  "kernelspec": {
   "display_name": "Python 3",
   "language": "python",
   "name": "python3"
  }
 },
 "nbformat": 4,
 "nbformat_minor": 5
}
